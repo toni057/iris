{
 "cells": [
  {
   "cell_type": "markdown",
   "metadata": {},
   "source": [
    "## Exploring tensorflow using the iris dataset"
   ]
  },
  {
   "cell_type": "markdown",
   "metadata": {},
   "source": [
    "#### 1. Imports"
   ]
  },
  {
   "cell_type": "code",
   "execution_count": 2,
   "metadata": {
    "collapsed": true
   },
   "outputs": [],
   "source": [
    "import numpy as np\n",
    "import pandas as pd\n",
    "\n",
    "import tensorflow as tf"
   ]
  },
  {
   "cell_type": "markdown",
   "metadata": {},
   "source": [
    "#### 2. Read in iris data"
   ]
  },
  {
   "cell_type": "code",
   "execution_count": 3,
   "metadata": {
    "collapsed": true
   },
   "outputs": [],
   "source": [
    "csv = 'https://raw.githubusercontent.com/toni057/iris/master/iris.csv'\n",
    "iris = pd.read_csv(csv)\n",
    "\n",
    "# convert pandas df to np arrays\n",
    "training_data = iris.iloc[:,:4].as_matrix().astype(np.float32)\n",
    "training_labels = iris.iloc[:,:4:-1].as_matrix().astype(np.float32)"
   ]
  },
  {
   "cell_type": "markdown",
   "metadata": {},
   "source": [
    "#### 3. Define the model graph"
   ]
  },
  {
   "cell_type": "code",
   "execution_count": 16,
   "metadata": {
    "collapsed": false
   },
   "outputs": [],
   "source": [
    "# Assuming softmax model\n",
    "x = tf.placeholder(tf.float32, [None, training_data.shape[1]])\n",
    "W = tf.Variable(tf.zeros([training_data.shape[1], training_labels.shape[1]]))\n",
    "b = tf.Variable(tf.zeros([training_labels.shape[1]]))\n",
    "y = tf.matmul(x, W) + b\n",
    "\n",
    "\n",
    "# Define loss and optimizer\n",
    "y_ = tf.placeholder(tf.float32, [None, training_labels.shape[1]])\n",
    "\n",
    "\n",
    "cross_entropy = tf.reduce_mean(tf.nn.softmax_cross_entropy_with_logits(y, y_))\n",
    "train_step = tf.train.GradientDescentOptimizer(0.1).minimize(cross_entropy)"
   ]
  },
  {
   "cell_type": "markdown",
   "metadata": {},
   "source": [
    "#### 4. Run the tensorflow session"
   ]
  },
  {
   "cell_type": "code",
   "execution_count": 17,
   "metadata": {
    "collapsed": false
   },
   "outputs": [
    {
     "name": "stdout",
     "output_type": "stream",
     "text": [
      "Prediction accurary:  0.98\n"
     ]
    }
   ],
   "source": [
    "sess = tf.InteractiveSession()\n",
    "\n",
    "# Train\n",
    "tf.global_variables_initializer().run()\n",
    "for _ in range(500):\n",
    "    sess.run(train_step, feed_dict={x: training_data, y_: training_labels})\n",
    "\n",
    "# Test trained model\n",
    "correct_prediction = tf.equal(tf.argmax(y, 1), tf.argmax(y_, 1))\n",
    "accuracy = tf.reduce_mean(tf.cast(correct_prediction, tf.float32))\n",
    "print(\"Prediction accurary: \", sess.run(accuracy, feed_dict={x: training_data,\n",
    "                                    y_: training_labels}))\n",
    "\n",
    "sess.close()"
   ]
  },
  {
   "cell_type": "markdown",
   "metadata": {},
   "source": [
    "#### 5. Redefining the graph definition (replaces 3 and 4)"
   ]
  },
  {
   "cell_type": "code",
   "execution_count": 24,
   "metadata": {
    "collapsed": false
   },
   "outputs": [
    {
     "name": "stdout",
     "output_type": "stream",
     "text": [
      "It. 100    Prediction accurary:  0.72\n",
      "It. 200    Prediction accurary:  0.98\n",
      "It. 300    Prediction accurary:  0.98\n",
      "It. 400    Prediction accurary:  0.98\n",
      "It. 500    Prediction accurary:  0.98\n"
     ]
    }
   ],
   "source": [
    "with tf.Graph().as_default():\n",
    "    \n",
    "    # Create the model\n",
    "    x = tf.placeholder(tf.float32, [None, training_data.shape[1]])\n",
    "    W = tf.Variable(tf.zeros([training_data.shape[1], training_labels.shape[1]]))\n",
    "    b = tf.Variable(tf.zeros([training_labels.shape[1]]))\n",
    "    y = tf.matmul(x, W) + b\n",
    "\n",
    "    # Define loss and optimizer\n",
    "    y_ = tf.placeholder(tf.float32, [None, training_labels.shape[1]])\n",
    "\n",
    "    # define goal function and the optimizer\n",
    "    cross_entropy = tf.reduce_mean(tf.nn.softmax_cross_entropy_with_logits(y, y_))\n",
    "    train_step = tf.train.GradientDescentOptimizer(.1).minimize(cross_entropy)\n",
    "\n",
    "\n",
    "    # global variable initializer\n",
    "    init = tf.global_variables_initializer()\n",
    "    \n",
    "    # create a session and run session to initialize variables\n",
    "    with tf.Session() as sess:\n",
    "        sess.run(init)\n",
    "        \n",
    "        # Train\n",
    "        tf.global_variables_initializer().run()\n",
    "        for i in range(500):\n",
    "            sess.run(train_step, feed_dict={x: training_data, y_: training_labels})\n",
    "        \n",
    "            \n",
    "            if (i+1) % 100 == 0:\n",
    "                # Test trained model\n",
    "                correct_prediction = tf.equal(tf.argmax(y, 1), tf.argmax(y_, 1))\n",
    "                accuracy = tf.reduce_mean(tf.cast(correct_prediction, tf.float32))\n",
    "                \n",
    "                print(\"It. %3d\" % (i+1),  \"   Prediction accurary: \", sess.run(accuracy, feed_dict={x: training_data,\n",
    "                                                                             y_: training_labels}))\n"
   ]
  }
 ],
 "metadata": {
  "anaconda-cloud": {},
  "kernelspec": {
   "display_name": "Python [conda root]",
   "language": "python",
   "name": "conda-root-py"
  },
  "language_info": {
   "codemirror_mode": {
    "name": "ipython",
    "version": 3
   },
   "file_extension": ".py",
   "mimetype": "text/x-python",
   "name": "python",
   "nbconvert_exporter": "python",
   "pygments_lexer": "ipython3",
   "version": "3.5.2"
  }
 },
 "nbformat": 4,
 "nbformat_minor": 1
}
